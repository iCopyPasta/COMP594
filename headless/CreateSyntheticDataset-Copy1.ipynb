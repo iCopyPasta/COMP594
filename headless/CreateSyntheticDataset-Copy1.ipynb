{
 "cells": [
  {
   "cell_type": "code",
   "execution_count": 12,
   "metadata": {},
   "outputs": [
    {
     "name": "stderr",
     "output_type": "stream",
     "text": [
      "usage: ipykernel_launcher.py [-h] [-V] [-s SIZE] [-t DEGREES] [-r ROOT_FOLDER]\n",
      "ipykernel_launcher.py: error: unrecognized arguments: -f /run/user/1000/jupyter/kernel-4a4b8cb5-4917-48b6-b870-99c8cf029d0a.json\n"
     ]
    },
    {
     "ename": "SystemExit",
     "evalue": "2",
     "output_type": "error",
     "traceback": [
      "An exception has occurred, use %tb to see the full traceback.\n",
      "\u001b[0;31mSystemExit\u001b[0m\u001b[0;31m:\u001b[0m 2\n"
     ]
    },
    {
     "name": "stderr",
     "output_type": "stream",
     "text": [
      "/opt/anaconda3/lib/python3.6/site-packages/IPython/core/interactiveshell.py:2971: UserWarning: To exit: use 'exit', 'quit', or Ctrl-D.\n",
      "  warn(\"To exit: use 'exit', 'quit', or Ctrl-D.\", stacklevel=1)\n"
     ]
    }
   ],
   "source": [
    "import warnings\n",
    "import argparse\n",
    "import DrawingWithTensors\n",
    "import pandas as pd\n",
    "from random import randint\n",
    "import torch\n",
    "import os\n",
    "import argparse\n",
    "\n",
    "# initiate the parser\n",
    "parser = argparse.ArgumentParser(description = \"List of options to run application when creating custom datset\")\n",
    "\n",
    "parser = argparse.ArgumentParser()  \n",
    "parser.add_argument(\"-V\", \"--version\", help=\"show program version\", action=\"store_true\")\n",
    "parser.add_argument(\"-s\", \"--size\", help=\"upper bound of number of images to include\")\n",
    "parser.add_argument(\"-t\", \"--rotations\", help=\"degree of rotations in generation of images\")\n",
    "parser.add_argument(\"-r\", \"--root_folder\", help=\"destination for root folder\")\n",
    "parser.add_argument(\"-i\", \"--iteration\", help=\"which generation number we are using\")\n",
    "\n",
    "#defined defaults\n",
    "upper_bound = 101\n",
    "iteration = \"1\"\n",
    "rotations=\"0\"\n",
    "ROOT = \"/home/peo5032/Documents/COMP594/input/gen\"\n",
    "\n",
    "# read arguments from the command line\n",
    "args = parser.parse_args()\n",
    "\n",
    "# check for --version or -V\n",
    "if args.version:  \n",
    "    print(\"this is version 0.1\", flush=True)\n",
    "    \n",
    "if args.size: \n",
    "    upper_bound = int(args.size) + 1\n",
    "\n",
    "if args.rotations: \n",
    "    print(\"rotations was\", args.rotations, flush=True)\n",
    "    \n",
    "if args.root_folder:  \n",
    "    if os.path.exists(root_folder):\n",
    "        ROOT = root_folder\n",
    "    print(\"destination was\", args.root_folder, flush=True)\n",
    "    \n",
    "if args.iteration:\n",
    "    print(\"iteration was\", args.iteration, flush=True)\n",
    "    iteration = args.iteration\n",
    "\n",
    "factor = 0.45\n",
    "\n",
    "#TODO: ADD CODE TO MAKE DIRS WHEN THEY DO NOT EXIST FOR SOME MACHINE\n",
    "\n",
    "IMAGE_PATH = ROOT + iteration + \"/roads\"\n",
    "TENSOR_PATH = ROOT + iteration + \"/tensor_values\"\n",
    "\n",
    "PICKLE_PATH = ROOT + iteration\n",
    "\n",
    "df = pd.DataFrame()\n",
    "NumLanes = []\n",
    "ShldrWidth = []\n",
    "ShldrWidthCenter = []\n",
    "RoadWidth = []\n",
    "FileNames = []\n",
    "imageGen = DrawingWithTensors.datasetFactory()\n",
    "tmp_tensor = torch.zeros(7,400,400,dtype=torch.float32)"
   ]
  },
  {
   "cell_type": "code",
   "execution_count": null,
   "metadata": {
    "scrolled": true
   },
   "outputs": [],
   "source": [
    "for i in range(0,upper_bound):\n",
    "    if i % 10 == 0:\n",
    "        print(\"Picture \",i, flush=True)\n",
    "    c = randint(0,80)\n",
    "    lanecount = randint(1,5)\n",
    "    laneWidth = randint(17,35)\n",
    "    lineWidth = randint(1,2)\n",
    "    shoulderWidth = randint(0,89)\n",
    "    tmp_tensor = torch.zeros(7,400,400,dtype=torch.float32)\n",
    "    \n",
    "    #create tuple of information, img, and tensor\n",
    "    tuple,img,tmp_tensor = imageGen.generateNewImageWithTensor(c,lanecount,laneWidth,lineWidth,shoulderWidth, tmp_tensor)\n",
    "    roadWidth,laneCount,shoulderWidth,centerShldrWidth = tuple                 \n",
    "    \n",
    "    NumLanes.append(laneCount)\n",
    "    ShldrWidth.append(shoulderWidth)\n",
    "    RoadWidth.append (roadWidth)\n",
    "    ShldrWidthCenter.append(centerShldrWidth)\n",
    "    \n",
    "    FileName = str(i) + \".png\"\n",
    "    FileNames.append(FileName)\n",
    "    img.save(IMAGE_PATH + \"/\" + FileName,\"PNG\")\n",
    "    \n",
    "    #save tensor\n",
    "    torch.save(tmp_tensor, TENSOR_PATH + \"/\"+ str(i) + '.pt')\n",
    "    \n",
    "    img.close()\n",
    "\n",
    "df['NumLanes'] = NumLanes\n",
    "df['ShldrWidth'] = ShldrWidth\n",
    "df['RdwyWidth'] = RoadWidth\n",
    "df['ShldrWidthCenter'] = ShldrWidthCenter\n",
    "df['FileName'] = FileNames\n",
    "\n",
    "df.to_pickle(PICKLE_PATH + \"/train_images_v2.pkl\")\n",
    "print(\"program terminated\", flush=True)"
   ]
  }
 ],
 "metadata": {
  "kernelspec": {
   "display_name": "Python 3",
   "language": "python",
   "name": "python3"
  },
  "language_info": {
   "codemirror_mode": {
    "name": "ipython",
    "version": 3
   },
   "file_extension": ".py",
   "mimetype": "text/x-python",
   "name": "python",
   "nbconvert_exporter": "python",
   "pygments_lexer": "ipython3",
   "version": "3.6.5"
  }
 },
 "nbformat": 4,
 "nbformat_minor": 2
}
