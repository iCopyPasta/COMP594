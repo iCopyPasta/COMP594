{
 "cells": [
  {
   "cell_type": "code",
   "execution_count": 1,
   "metadata": {},
   "outputs": [
    {
     "name": "stderr",
     "output_type": "stream",
     "text": [
      "/opt/anaconda3/lib/python3.6/site-packages/h5py/__init__.py:36: FutureWarning: Conversion of the second argument of issubdtype from `float` to `np.floating` is deprecated. In future, it will be treated as `np.float64 == np.dtype(float).type`.\n",
      "  from ._conv import register_converters as _register_converters\n"
     ]
    }
   ],
   "source": [
    "import DrawingWithTensors\n",
    "import pandas as pd\n",
    "from random import randint\n",
    "import torch\n",
    "\n",
    "factor = 0.45\n",
    "\n",
    "#TODO: ADD CODE TO MAKE DIRS WHEN THEY DO NOT EXIST FOR SOME MACHINE\n",
    "\n",
    "IMAGE_PATH = \"/home/peo5032/Documents/COMP594/input/roads\"\n",
    "TENSOR_PATH = \"/home/peo5032/Documents/COMP594/input/tensor_values\"\n",
    "\n",
    "PICKLE_PATH = \"/home/peo5032/Documents/COMP594/input\"\n",
    "\n",
    "df = pd.DataFrame()\n",
    "NumLanes = []\n",
    "ShldrWidth = []\n",
    "ShldrWidthCenter = []\n",
    "RoadWidth = []\n",
    "FileNames = []\n",
    "imageGen = DrawingWithTensors.datasetFactory()"
   ]
  },
  {
   "cell_type": "code",
   "execution_count": 2,
   "metadata": {},
   "outputs": [
    {
     "name": "stdout",
     "output_type": "stream",
     "text": [
      "Picture  0\n",
      "Picture  10\n",
      "Picture  20\n",
      "Picture  30\n",
      "Picture  40\n",
      "Picture  50\n",
      "Picture  60\n",
      "Picture  70\n",
      "Picture  80\n",
      "Picture  90\n",
      "Picture  100\n",
      "Picture  110\n",
      "Picture  120\n",
      "Picture  130\n",
      "Picture  140\n",
      "Picture  150\n",
      "okay, I'm done\n"
     ]
    }
   ],
   "source": [
    "for i in range(0,151):\n",
    "    if i % 10 == 0:\n",
    "        print(\"Picture \",i)\n",
    "    c = randint(0,80)\n",
    "    lc = randint(1,5)\n",
    "    laneWidth = randint(17,35)\n",
    "    lineWidth = randint(1,2)\n",
    "    shoulderWidth = randint(0,89)\n",
    "    \n",
    "    #create tuple of information, img, and tensor\n",
    "    tuple,img,tmp_tensor = imageGen.generateNewImageWithTensor(c,lc,laneWidth,lineWidth,shoulderWidth)\n",
    "    roadWidth,laneCount,shoulderWidth,centerShldrWidth = tuple                 \n",
    "    \n",
    "    NumLanes.append(laneCount)\n",
    "    ShldrWidth.append(shoulderWidth)\n",
    "    RoadWidth.append (roadWidth)\n",
    "    ShldrWidthCenter.append(centerShldrWidth)\n",
    "    \n",
    "    FileName = str(i) + \".png\"\n",
    "    FileNames.append(FileName)\n",
    "    img.save(IMAGE_PATH + \"/\" + FileName,\"PNG\")\n",
    "    \n",
    "    #save tensor\n",
    "    torch.save(tmp_tensor, TENSOR_PATH + \"/\"+ str(i) + '.pt')\n",
    "\n",
    "df['NumLanes'] = NumLanes\n",
    "df['ShldrWidth'] = ShldrWidth\n",
    "df['RdwyWidth'] = RoadWidth\n",
    "df['ShldrWidthCenter'] = ShldrWidthCenter\n",
    "df['FileName'] = FileNames\n",
    "\n",
    "df.to_pickle(PICKLE_PATH + \"/train_images_v2.pkl\")\n",
    "\n",
    "print(\"okay, I'm done\")"
   ]
  },
  {
   "cell_type": "code",
   "execution_count": null,
   "metadata": {},
   "outputs": [],
   "source": []
  }
 ],
 "metadata": {
  "kernelspec": {
   "display_name": "Python 3",
   "language": "python",
   "name": "python3"
  },
  "language_info": {
   "codemirror_mode": {
    "name": "ipython",
    "version": 3
   },
   "file_extension": ".py",
   "mimetype": "text/x-python",
   "name": "python",
   "nbconvert_exporter": "python",
   "pygments_lexer": "ipython3",
   "version": "3.6.5"
  }
 },
 "nbformat": 4,
 "nbformat_minor": 2
}
