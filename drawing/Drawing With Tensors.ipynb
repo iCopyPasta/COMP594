{
 "cells": [
  {
   "cell_type": "code",
   "execution_count": null,
   "metadata": {},
   "outputs": [],
   "source": [
    "def drawBackground(self,imgMap):\n",
    "        choice = randint(0,2)\n",
    "        if choice == 0:\n",
    "            for i in range(self.IMAGE_SIZE):\n",
    "                for j in range(self.IMAGE_SIZE):\n",
    "                    imgMap[i,j] = (randint(0,255),randint(0,255),randint(0,255))\n",
    "        elif choice == 1:\n",
    "            rgb = (randint(0,255),randint(0,255),randint(0,255))\n",
    "            for i in range(self.IMAGE_SIZE):\n",
    "                for j in range(self.IMAGE_SIZE):\n",
    "                    imgMap[i,j] = rgb\n",
    "        elif choice == 2:\n",
    "            r = randint(0,255)\n",
    "            rD = randint(0,40)\n",
    "            g = randint(0,255)\n",
    "            gD = randint(0,40)\n",
    "            b = randint(0,255)\n",
    "            bD = randint(0,40)\n",
    "            for i in range(self.IMAGE_SIZE):\n",
    "                for j in range(self.IMAGE_SIZE):\n",
    "                    imgMap[i,j] = (max(0,min(255,int(np.random.normal(r,rD)))),\n",
    "                                   max(0,min(255,int(np.random.normal(g,gD)))),\n",
    "                                   max(0,min(255,int(np.random.normal(b,bD)))))\n",
    "        else:\n",
    "            print(\"bug in drawBackground\")\n",
    "            sys.exit(-1)\n",
    "           \n",
    "    def drawLine(self,imgMap,start,width,red,redDev,green,greenDev,blue,blueDev,onLen,offLen):\n",
    "        if start < 0 or start + width >= self.IMAGE_SIZE:\n",
    "            print(start,width)\n",
    "        for i in range(start,start+width):\n",
    "           on = True\n",
    "           dist = onLen\n",
    "           for j in range(self.IMAGE_SIZE):\n",
    "                if on == True:\n",
    "                    r = max(0,min(255,int(np.random.normal(red,redDev))))\n",
    "                    g = max(0,min(255,int(np.random.normal(green,greenDev))))\n",
    "                    b = max(0,min(255,int(np.random.normal(blue,blueDev))))\n",
    "                    imgMap[i,j] = (r,g,b)\n",
    "                    if onLen > 0:\n",
    "                        dist = dist - 1\n",
    "                        if dist < 0:\n",
    "                           dist = offLen\n",
    "                           on = not on\n",
    "                else:\n",
    "                    dist = dist - 1\n",
    "                    if dist < 0:\n",
    "                       dist = onLen\n",
    "                       on = not on\n",
    "     \n",
    "    def generateImage(self,centerShldrWidth,laneCount,laneWidth,lineWidth,shoulderWidth):\n",
    "        img = Image.new('RGB',(self.IMAGE_SIZE,self.IMAGE_SIZE))\n",
    "        imgMap = img.load()\n",
    "        \n",
    "        self.drawBackground(imgMap)\n",
    "        \n",
    "        factor = 0.45   # ft/px\n",
    "        # 0 to 36\n",
    "        #centerShldrWidth=randint(0,80)\n",
    "        # 0 to 5\n",
    "        #laneCount = randint(0,5)\n",
    "        # 8 to 15\n",
    "        #laneWidth = randint(17,34) \n",
    "        # 4 to 6 in\n",
    "        #lineWidth = randint(1,2)\n",
    "        # 8 to 40\n",
    "        #shoulderWidth=randint(0,89)\n",
    "        start = (self.IMAGE_SIZE - centerShldrWidth - (laneCount+1)*lineWidth - laneCount * laneWidth - shoulderWidth)//2\n",
    "        \n",
    "        if start < 10:\n",
    "           print(centerShldrWidth,laneCount,laneWidth,lineWidth,shoulderWidth,\"EXCEEDED IMAGE_SIZE\")\n",
    "           sys.exit(-1)\n",
    "\n",
    "        self.drawLine(imgMap,start,centerShldrWidth,128,20,128,20,128,20,0,0)\n",
    "        start += centerShldrWidth\n",
    "        \n",
    "        for i in range(laneCount):\n",
    "            if i == 0:\n",
    "                self.drawLine(imgMap,start,lineWidth,200,40,200,40,50,40,0,0)\n",
    "            else:\n",
    "                self.drawLine(imgMap,start,lineWidth,200,40,200,40,200,40,20,20)\n",
    "            start += lineWidth \n",
    "            self.drawLine(imgMap,start,laneWidth,128,40,128,40,128,40,0,0)\n",
    "            start += laneWidth - lineWidth \n",
    "        \n",
    "        self.drawLine(imgMap,start,lineWidth,200,40,400,40,200,40,0,0)\n",
    "        start += lineWidth\n",
    "        self.drawLine(imgMap,start,shoulderWidth, 128,40,128,40,128,40,0,0)\n",
    "        \n",
    "        #roadWidth = centerShldrWidth + laneCount*laneWidth + shoulderWidth\n",
    "        roadWidth = laneCount*laneWidth\n",
    "\n",
    "        #roadWidth = (roadWidth*factor - self.RdwyWidthMean)/self.RdwyWidthStdDev\n",
    "        roadWidth = roadWidth*factor\n",
    "        #laneCount = (laneCount - self.NumLanesMean)/self.NumLanesStdDev\n",
    "        #shoulderWidth = (shoulderWidth*factor - self.shldrCenterMean)/self.shldrCenterStdDev\n",
    "        shoulderWidth = shoulderWidth*factor\n",
    "        #centerShldrWidth = (centerShldrWidth*factor - self.ShldrWidthMean)/self.ShldrWidthStdDev\n",
    "        centerShldrWidth = centerShldrWidth*factor\n",
    "\n",
    "        return (roadWidth,laneCount,shoulderWidth,centerShldrWidth),img"
   ]
  },
  {
   "cell_type": "code",
   "execution_count": 6,
   "metadata": {},
   "outputs": [],
   "source": [
    "from PIL import Image\n",
    "from random import randint\n",
    "import numpy as np\n",
    "import pandas as pd\n",
    "import sys\n",
    "import torch\n",
    "PATH = \"/home/peo5032/Documents/COMP594\"\n",
    "INPUT_PATH = PATH + \"/input\"\n",
    "\n",
    "class roadFactory(object):\n",
    "\n",
    "    def __init__(self, NUM_CLASSES = 3, IMAGE_SIZE = 400):\n",
    "        \n",
    "        try:\n",
    "            self.IMAGE_SIZE=IMAGE_SIZE\n",
    "            self.NUM_CLASSES = NUM_CLASSES\n",
    "            self.tensorMap = torch.zeros([self.NUM_CLASSES, self.IMAGE_SIZE, self.IMAGE_SIZE], dtype = torch.int32)\n",
    "            \n",
    "        except IOError:\n",
    "            print('An error occured trying to read the file.')\n",
    "            \n",
    "    def drawStraightLine(self,imgMap,start,width,red,redDev,green,greenDev,blue,blueDev,onLen,offLen,class_type):\n",
    "        if start < 0 or start + width >= self.IMAGE_SIZE:\n",
    "            print(start,width)\n",
    "        for i in range(start,start+width):\n",
    "            on = True\n",
    "            dist = onLen\n",
    "            for j in range(self.IMAGE_SIZE):\n",
    "                if on == True:\n",
    "                    r = max(0,min(255,int(np.random.normal(red,redDev))))\n",
    "                    g = max(0,min(255,int(np.random.normal(green,greenDev))))\n",
    "                    b = max(0,min(255,int(np.random.normal(blue,blueDev))))\n",
    "                    imgMap[i,j] = (r,g,b)\n",
    "                    if onLen > 0:\n",
    "                        dist = dist - 1\n",
    "                        if dist < 0:\n",
    "                           dist = offLen\n",
    "                           on = not on\n",
    "                else:\n",
    "                    dist = dist - 1\n",
    "                    if dist < 0:\n",
    "                        dist = onLen\n",
    "                        on = not on"
   ]
  },
  {
   "cell_type": "code",
   "execution_count": 7,
   "metadata": {},
   "outputs": [],
   "source": [
    "new_road_factory = roadFactory()"
   ]
  },
  {
   "cell_type": "code",
   "execution_count": 10,
   "metadata": {},
   "outputs": [
    {
     "data": {
      "text/plain": [
       "torch.Size([3, 400, 400])"
      ]
     },
     "execution_count": 10,
     "metadata": {},
     "output_type": "execute_result"
    }
   ],
   "source": [
    "new_road_factory.tensorMap\n",
    "new_road_factory.tensorMap.size()"
   ]
  },
  {
   "cell_type": "code",
   "execution_count": 13,
   "metadata": {},
   "outputs": [],
   "source": [
    "new_road_factory.tensorMap[2][0][0] = 1"
   ]
  },
  {
   "cell_type": "code",
   "execution_count": 19,
   "metadata": {},
   "outputs": [],
   "source": [
    "new_road_factory.tensorMap[2][0][1] = 2"
   ]
  },
  {
   "cell_type": "code",
   "execution_count": 21,
   "metadata": {},
   "outputs": [],
   "source": [
    "new_road_factory.tensorMap[2][1][0] = 2"
   ]
  },
  {
   "cell_type": "code",
   "execution_count": 22,
   "metadata": {},
   "outputs": [
    {
     "data": {
      "text/plain": [
       "tensor([[1, 2, 0,  ..., 0, 0, 0],\n",
       "        [2, 0, 0,  ..., 0, 0, 0],\n",
       "        [0, 0, 0,  ..., 0, 0, 0],\n",
       "        ...,\n",
       "        [0, 0, 0,  ..., 0, 0, 0],\n",
       "        [0, 0, 0,  ..., 0, 0, 0],\n",
       "        [0, 0, 0,  ..., 0, 0, 0]], dtype=torch.int32)"
      ]
     },
     "execution_count": 22,
     "metadata": {},
     "output_type": "execute_result"
    }
   ],
   "source": [
    "new_road_factory.tensorMap[2]"
   ]
  },
  {
   "cell_type": "code",
   "execution_count": 31,
   "metadata": {},
   "outputs": [
    {
     "data": {
      "text/plain": [
       "tensor([[0, 0, 0,  ..., 0, 0, 0],\n",
       "        [0, 0, 0,  ..., 0, 0, 0],\n",
       "        [0, 0, 0,  ..., 0, 0, 0],\n",
       "        ...,\n",
       "        [0, 0, 0,  ..., 0, 0, 0],\n",
       "        [0, 0, 0,  ..., 0, 0, 0],\n",
       "        [0, 0, 0,  ..., 0, 0, 0]], dtype=torch.int32)"
      ]
     },
     "execution_count": 31,
     "metadata": {},
     "output_type": "execute_result"
    }
   ],
   "source": [
    "new_road_factory.tensorMap[1]"
   ]
  },
  {
   "cell_type": "code",
   "execution_count": 23,
   "metadata": {},
   "outputs": [],
   "source": [
    "test2 = torch.zeros([2,3])"
   ]
  },
  {
   "cell_type": "code",
   "execution_count": 24,
   "metadata": {},
   "outputs": [
    {
     "data": {
      "text/plain": [
       "tensor([[0., 0., 0.],\n",
       "        [0., 0., 0.]])"
      ]
     },
     "execution_count": 24,
     "metadata": {},
     "output_type": "execute_result"
    }
   ],
   "source": [
    "test"
   ]
  },
  {
   "cell_type": "code",
   "execution_count": 27,
   "metadata": {},
   "outputs": [
    {
     "data": {
      "text/plain": [
       "tensor([[1., 1., 1.],\n",
       "        [0., 0., 0.]])"
      ]
     },
     "execution_count": 27,
     "metadata": {},
     "output_type": "execute_result"
    }
   ],
   "source": [
    "test[0] = torch.ones([1])\n",
    "test"
   ]
  },
  {
   "cell_type": "code",
   "execution_count": 30,
   "metadata": {},
   "outputs": [
    {
     "data": {
      "text/plain": [
       "tensor([[0., 1., 2.],\n",
       "        [0., 0., 0.]])"
      ]
     },
     "execution_count": 30,
     "metadata": {},
     "output_type": "execute_result"
    }
   ],
   "source": [
    "test[0,0] = 0\n",
    "test[0,1] = 1\n",
    "test[0,2] = 2\n",
    "test"
   ]
  },
  {
   "cell_type": "code",
   "execution_count": 43,
   "metadata": {},
   "outputs": [],
   "source": [
    "test1 = torch.zeros([2,3])\n",
    "test2 = torch.zeros([2,3])"
   ]
  },
  {
   "cell_type": "code",
   "execution_count": 44,
   "metadata": {},
   "outputs": [],
   "source": [
    "test1[0,1] = 44\n",
    "test1[0,2] = 1"
   ]
  },
  {
   "cell_type": "code",
   "execution_count": 45,
   "metadata": {},
   "outputs": [
    {
     "data": {
      "text/plain": [
       "tensor([[ 0., 44.,  1.],\n",
       "        [ 0.,  0.,  0.]])"
      ]
     },
     "execution_count": 45,
     "metadata": {},
     "output_type": "execute_result"
    }
   ],
   "source": [
    "test1"
   ]
  },
  {
   "cell_type": "code",
   "execution_count": 47,
   "metadata": {},
   "outputs": [],
   "source": [
    "test2[test1 == 1] = 69\n",
    "test2[test1 == 44] = 69"
   ]
  },
  {
   "cell_type": "code",
   "execution_count": 51,
   "metadata": {},
   "outputs": [],
   "source": [
    "test2[test1 == 1] = test2[test1 == 44] = 70"
   ]
  },
  {
   "cell_type": "code",
   "execution_count": 52,
   "metadata": {},
   "outputs": [
    {
     "data": {
      "text/plain": [
       "tensor([[ 0., 70., 70.],\n",
       "        [ 0.,  0.,  0.]])"
      ]
     },
     "execution_count": 52,
     "metadata": {},
     "output_type": "execute_result"
    }
   ],
   "source": [
    "test2"
   ]
  },
  {
   "cell_type": "code",
   "execution_count": null,
   "metadata": {},
   "outputs": [],
   "source": []
  }
 ],
 "metadata": {
  "kernelspec": {
   "display_name": "Python 3",
   "language": "python",
   "name": "python3"
  },
  "language_info": {
   "codemirror_mode": {
    "name": "ipython",
    "version": 3
   },
   "file_extension": ".py",
   "mimetype": "text/x-python",
   "name": "python",
   "nbconvert_exporter": "python",
   "pygments_lexer": "ipython3",
   "version": "3.6.5"
  }
 },
 "nbformat": 4,
 "nbformat_minor": 2
}
